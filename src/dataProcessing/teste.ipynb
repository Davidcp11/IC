{
 "cells": [
  {
   "cell_type": "code",
   "execution_count": 1,
   "id": "initial_id",
   "metadata": {
    "collapsed": true,
    "ExecuteTime": {
     "end_time": "2024-05-24T12:09:40.433019Z",
     "start_time": "2024-05-24T12:09:28.070632Z"
    }
   },
   "outputs": [],
   "source": [
    "import pandas as pd\n",
    "import numpy as np\n",
    "import matplotlib.pyplot as plt"
   ]
  },
  {
   "cell_type": "code",
   "outputs": [
    {
     "data": {
      "text/plain": "           Date       Open       High    Low      Close  Adj Close    Volume\n0    2022-10-27  14.370000  15.240000  14.33  14.640000  14.640000   9401500\n1    2022-10-28  14.430000  14.930000  14.33  14.810000  14.810000   8831300\n2    2022-10-31  14.440000  16.129999  14.30  16.129999  16.129999  16568200\n3    2022-11-01  16.200001  16.559999  15.61  16.320000  16.320000  11681900\n4    2022-11-03  15.780000  16.270000  15.45  16.230000  16.230000  11766800\n..          ...        ...        ...    ...        ...        ...       ...\n246  2023-10-23  12.250000  13.140000  12.12  12.930000  12.930000  14617400\n247  2023-10-24  13.100000  13.410000  12.93  13.200000  13.200000  11542300\n248  2023-10-25  13.200000  13.500000  12.80  12.850000  12.850000  13303400\n249  2023-10-26  13.010000  13.550000  13.01  13.360000  13.360000  16068800\n250  2023-10-27  13.410000  13.660000  13.36  13.660000  13.660000   1411000\n\n[251 rows x 7 columns]",
      "text/html": "<div>\n<style scoped>\n    .dataframe tbody tr th:only-of-type {\n        vertical-align: middle;\n    }\n\n    .dataframe tbody tr th {\n        vertical-align: top;\n    }\n\n    .dataframe thead th {\n        text-align: right;\n    }\n</style>\n<table border=\"1\" class=\"dataframe\">\n  <thead>\n    <tr style=\"text-align: right;\">\n      <th></th>\n      <th>Date</th>\n      <th>Open</th>\n      <th>High</th>\n      <th>Low</th>\n      <th>Close</th>\n      <th>Adj Close</th>\n      <th>Volume</th>\n    </tr>\n  </thead>\n  <tbody>\n    <tr>\n      <th>0</th>\n      <td>2022-10-27</td>\n      <td>14.370000</td>\n      <td>15.240000</td>\n      <td>14.33</td>\n      <td>14.640000</td>\n      <td>14.640000</td>\n      <td>9401500</td>\n    </tr>\n    <tr>\n      <th>1</th>\n      <td>2022-10-28</td>\n      <td>14.430000</td>\n      <td>14.930000</td>\n      <td>14.33</td>\n      <td>14.810000</td>\n      <td>14.810000</td>\n      <td>8831300</td>\n    </tr>\n    <tr>\n      <th>2</th>\n      <td>2022-10-31</td>\n      <td>14.440000</td>\n      <td>16.129999</td>\n      <td>14.30</td>\n      <td>16.129999</td>\n      <td>16.129999</td>\n      <td>16568200</td>\n    </tr>\n    <tr>\n      <th>3</th>\n      <td>2022-11-01</td>\n      <td>16.200001</td>\n      <td>16.559999</td>\n      <td>15.61</td>\n      <td>16.320000</td>\n      <td>16.320000</td>\n      <td>11681900</td>\n    </tr>\n    <tr>\n      <th>4</th>\n      <td>2022-11-03</td>\n      <td>15.780000</td>\n      <td>16.270000</td>\n      <td>15.45</td>\n      <td>16.230000</td>\n      <td>16.230000</td>\n      <td>11766800</td>\n    </tr>\n    <tr>\n      <th>...</th>\n      <td>...</td>\n      <td>...</td>\n      <td>...</td>\n      <td>...</td>\n      <td>...</td>\n      <td>...</td>\n      <td>...</td>\n    </tr>\n    <tr>\n      <th>246</th>\n      <td>2023-10-23</td>\n      <td>12.250000</td>\n      <td>13.140000</td>\n      <td>12.12</td>\n      <td>12.930000</td>\n      <td>12.930000</td>\n      <td>14617400</td>\n    </tr>\n    <tr>\n      <th>247</th>\n      <td>2023-10-24</td>\n      <td>13.100000</td>\n      <td>13.410000</td>\n      <td>12.93</td>\n      <td>13.200000</td>\n      <td>13.200000</td>\n      <td>11542300</td>\n    </tr>\n    <tr>\n      <th>248</th>\n      <td>2023-10-25</td>\n      <td>13.200000</td>\n      <td>13.500000</td>\n      <td>12.80</td>\n      <td>12.850000</td>\n      <td>12.850000</td>\n      <td>13303400</td>\n    </tr>\n    <tr>\n      <th>249</th>\n      <td>2023-10-26</td>\n      <td>13.010000</td>\n      <td>13.550000</td>\n      <td>13.01</td>\n      <td>13.360000</td>\n      <td>13.360000</td>\n      <td>16068800</td>\n    </tr>\n    <tr>\n      <th>250</th>\n      <td>2023-10-27</td>\n      <td>13.410000</td>\n      <td>13.660000</td>\n      <td>13.36</td>\n      <td>13.660000</td>\n      <td>13.660000</td>\n      <td>1411000</td>\n    </tr>\n  </tbody>\n</table>\n<p>251 rows × 7 columns</p>\n</div>"
     },
     "execution_count": 11,
     "metadata": {},
     "output_type": "execute_result"
    }
   ],
   "source": [
    "df = pd.read_csv('../dataset/prices_data/AZUL4.SA.csv')   \n",
    "df"
   ],
   "metadata": {
    "collapsed": false,
    "ExecuteTime": {
     "end_time": "2024-05-24T12:52:09.931223Z",
     "start_time": "2024-05-24T12:52:09.921320Z"
    }
   },
   "id": "8feec6f7c0e12ea8",
   "execution_count": 11
  },
  {
   "cell_type": "code",
   "outputs": [
    {
     "data": {
      "text/plain": "          Date       Open       High    Low      Close  Adj Close    Volume\n0   2022-10-27  14.370000  15.240000  14.33  14.640000  14.640000   9401500\n1   2022-10-28  14.430000  14.930000  14.33  14.810000  14.810000   8831300\n2   2022-10-31  14.440000  16.129999  14.30  16.129999  16.129999  16568200\n3   2022-11-01  16.200001  16.559999  15.61  16.320000  16.320000  11681900\n4   2022-11-03  15.780000  16.270000  15.45  16.230000  16.230000  11766800\n..         ...        ...        ...    ...        ...        ...       ...\n246 2023-10-23  12.250000  13.140000  12.12  12.930000  12.930000  14617400\n247 2023-10-24  13.100000  13.410000  12.93  13.200000  13.200000  11542300\n248 2023-10-25  13.200000  13.500000  12.80  12.850000  12.850000  13303400\n249 2023-10-26  13.010000  13.550000  13.01  13.360000  13.360000  16068800\n250 2023-10-27  13.410000  13.660000  13.36  13.660000  13.660000   1411000\n\n[251 rows x 7 columns]",
      "text/html": "<div>\n<style scoped>\n    .dataframe tbody tr th:only-of-type {\n        vertical-align: middle;\n    }\n\n    .dataframe tbody tr th {\n        vertical-align: top;\n    }\n\n    .dataframe thead th {\n        text-align: right;\n    }\n</style>\n<table border=\"1\" class=\"dataframe\">\n  <thead>\n    <tr style=\"text-align: right;\">\n      <th></th>\n      <th>Date</th>\n      <th>Open</th>\n      <th>High</th>\n      <th>Low</th>\n      <th>Close</th>\n      <th>Adj Close</th>\n      <th>Volume</th>\n    </tr>\n  </thead>\n  <tbody>\n    <tr>\n      <th>0</th>\n      <td>2022-10-27</td>\n      <td>14.370000</td>\n      <td>15.240000</td>\n      <td>14.33</td>\n      <td>14.640000</td>\n      <td>14.640000</td>\n      <td>9401500</td>\n    </tr>\n    <tr>\n      <th>1</th>\n      <td>2022-10-28</td>\n      <td>14.430000</td>\n      <td>14.930000</td>\n      <td>14.33</td>\n      <td>14.810000</td>\n      <td>14.810000</td>\n      <td>8831300</td>\n    </tr>\n    <tr>\n      <th>2</th>\n      <td>2022-10-31</td>\n      <td>14.440000</td>\n      <td>16.129999</td>\n      <td>14.30</td>\n      <td>16.129999</td>\n      <td>16.129999</td>\n      <td>16568200</td>\n    </tr>\n    <tr>\n      <th>3</th>\n      <td>2022-11-01</td>\n      <td>16.200001</td>\n      <td>16.559999</td>\n      <td>15.61</td>\n      <td>16.320000</td>\n      <td>16.320000</td>\n      <td>11681900</td>\n    </tr>\n    <tr>\n      <th>4</th>\n      <td>2022-11-03</td>\n      <td>15.780000</td>\n      <td>16.270000</td>\n      <td>15.45</td>\n      <td>16.230000</td>\n      <td>16.230000</td>\n      <td>11766800</td>\n    </tr>\n    <tr>\n      <th>...</th>\n      <td>...</td>\n      <td>...</td>\n      <td>...</td>\n      <td>...</td>\n      <td>...</td>\n      <td>...</td>\n      <td>...</td>\n    </tr>\n    <tr>\n      <th>246</th>\n      <td>2023-10-23</td>\n      <td>12.250000</td>\n      <td>13.140000</td>\n      <td>12.12</td>\n      <td>12.930000</td>\n      <td>12.930000</td>\n      <td>14617400</td>\n    </tr>\n    <tr>\n      <th>247</th>\n      <td>2023-10-24</td>\n      <td>13.100000</td>\n      <td>13.410000</td>\n      <td>12.93</td>\n      <td>13.200000</td>\n      <td>13.200000</td>\n      <td>11542300</td>\n    </tr>\n    <tr>\n      <th>248</th>\n      <td>2023-10-25</td>\n      <td>13.200000</td>\n      <td>13.500000</td>\n      <td>12.80</td>\n      <td>12.850000</td>\n      <td>12.850000</td>\n      <td>13303400</td>\n    </tr>\n    <tr>\n      <th>249</th>\n      <td>2023-10-26</td>\n      <td>13.010000</td>\n      <td>13.550000</td>\n      <td>13.01</td>\n      <td>13.360000</td>\n      <td>13.360000</td>\n      <td>16068800</td>\n    </tr>\n    <tr>\n      <th>250</th>\n      <td>2023-10-27</td>\n      <td>13.410000</td>\n      <td>13.660000</td>\n      <td>13.36</td>\n      <td>13.660000</td>\n      <td>13.660000</td>\n      <td>1411000</td>\n    </tr>\n  </tbody>\n</table>\n<p>251 rows × 7 columns</p>\n</div>"
     },
     "execution_count": 14,
     "metadata": {},
     "output_type": "execute_result"
    }
   ],
   "source": [
    "df['Date'] = pd.to_datetime(df['Date'])\n",
    "df"
   ],
   "metadata": {
    "collapsed": false,
    "ExecuteTime": {
     "end_time": "2024-05-24T12:54:30.560740Z",
     "start_time": "2024-05-24T12:54:30.551124Z"
    }
   },
   "id": "74ef40571d58ddb6",
   "execution_count": 14
  },
  {
   "cell_type": "code",
   "outputs": [],
   "source": [],
   "metadata": {
    "collapsed": false
   },
   "id": "48410715adacf36d"
  }
 ],
 "metadata": {
  "kernelspec": {
   "display_name": "Python 3",
   "language": "python",
   "name": "python3"
  },
  "language_info": {
   "codemirror_mode": {
    "name": "ipython",
    "version": 2
   },
   "file_extension": ".py",
   "mimetype": "text/x-python",
   "name": "python",
   "nbconvert_exporter": "python",
   "pygments_lexer": "ipython2",
   "version": "2.7.6"
  }
 },
 "nbformat": 4,
 "nbformat_minor": 5
}
