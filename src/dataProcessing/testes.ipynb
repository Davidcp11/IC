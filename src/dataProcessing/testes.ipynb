{
 "cells": [
  {
   "cell_type": "code",
   "execution_count": 9,
   "id": "initial_id",
   "metadata": {
    "collapsed": true,
    "ExecuteTime": {
     "end_time": "2024-05-28T02:53:35.574494Z",
     "start_time": "2024-05-28T02:53:35.571010Z"
    }
   },
   "outputs": [],
   "source": [
    "import pandas as pd\n",
    "import numpy as np\n",
    "from src.dataProcessing.utilsData.data_processing import DataProcessing"
   ]
  },
  {
   "cell_type": "code",
   "outputs": [
    {
     "data": {
      "text/plain": "            Date       Open       High        Low      Close  Adj Close  \\\n0     2010-01-04  29.799999  30.000000  29.700001  29.900000  12.111353   \n1     2010-01-05  30.100000  30.100000  29.190001  29.600000  11.989834   \n2     2010-01-06  29.490000  30.000000  29.420000  29.639999  12.006036   \n3     2010-01-07  29.440001  29.709999  29.410000  29.650000  12.010086   \n4     2010-01-08  29.700001  29.820000  29.469999  29.820000  12.078955   \n...          ...        ...        ...        ...        ...        ...   \n3220  2022-12-23  34.529999  35.639999  34.529999  35.279999  32.831261   \n3221  2022-12-26  35.570000  35.570000  34.740002  35.230000  32.784729   \n3222  2022-12-27  35.450001  35.450001  33.900002  34.060001  31.695936   \n3223  2022-12-28  34.099998  34.799999  33.619999  34.669998  32.263596   \n3224  2022-12-29  34.830002  35.040001  34.400002  34.730000  32.319435   \n\n        Volume  Daily_Return  Week_Return  Month_Return  \\\n0      3624700           NaN          NaN           NaN   \n1      3064900     -0.010084          NaN           NaN   \n2      2733100      0.001350          NaN           NaN   \n3      1542200      0.000337          NaN           NaN   \n4      2038900      0.005717          NaN           NaN   \n...        ...           ...          ...           ...   \n3220   8744400      0.024388     0.127073     -0.029328   \n3221   4552700     -0.001418     0.097726     -0.008198   \n3222   8865800     -0.033774     0.043811     -0.066445   \n3223  10725200      0.017751     0.050883     -0.016591   \n3224   9336500      0.001729     0.027143      0.006645   \n\n      Cumulative_std_Daily_Return  Cumulative_std_Week_Return  \\\n0                             NaN                         NaN   \n1                             NaN                         NaN   \n2                        0.008085                         NaN   \n3                        0.006330                         NaN   \n4                        0.006696                         NaN   \n...                           ...                         ...   \n3220                     0.025743                    0.067578   \n3221                     0.025739                    0.067589   \n3222                     0.025742                    0.067583   \n3223                     0.025740                    0.067578   \n3224                     0.025736                    0.067569   \n\n      Cumulative_std_Month_Return  Indicator_Daily_Return  \n0                             NaN                       0  \n1                             NaN                       0  \n2                             NaN                       0  \n3                             NaN                       0  \n4                             NaN                       0  \n...                           ...                     ...  \n3220                     0.140555                       0  \n3221                     0.140533                       0  \n3222                     0.140516                      -1  \n3223                     0.140494                       0  \n3224                     0.140472                       0  \n\n[3225 rows x 14 columns]",
      "text/html": "<div>\n<style scoped>\n    .dataframe tbody tr th:only-of-type {\n        vertical-align: middle;\n    }\n\n    .dataframe tbody tr th {\n        vertical-align: top;\n    }\n\n    .dataframe thead th {\n        text-align: right;\n    }\n</style>\n<table border=\"1\" class=\"dataframe\">\n  <thead>\n    <tr style=\"text-align: right;\">\n      <th></th>\n      <th>Date</th>\n      <th>Open</th>\n      <th>High</th>\n      <th>Low</th>\n      <th>Close</th>\n      <th>Adj Close</th>\n      <th>Volume</th>\n      <th>Daily_Return</th>\n      <th>Week_Return</th>\n      <th>Month_Return</th>\n      <th>Cumulative_std_Daily_Return</th>\n      <th>Cumulative_std_Week_Return</th>\n      <th>Cumulative_std_Month_Return</th>\n      <th>Indicator_Daily_Return</th>\n    </tr>\n  </thead>\n  <tbody>\n    <tr>\n      <th>0</th>\n      <td>2010-01-04</td>\n      <td>29.799999</td>\n      <td>30.000000</td>\n      <td>29.700001</td>\n      <td>29.900000</td>\n      <td>12.111353</td>\n      <td>3624700</td>\n      <td>NaN</td>\n      <td>NaN</td>\n      <td>NaN</td>\n      <td>NaN</td>\n      <td>NaN</td>\n      <td>NaN</td>\n      <td>0</td>\n    </tr>\n    <tr>\n      <th>1</th>\n      <td>2010-01-05</td>\n      <td>30.100000</td>\n      <td>30.100000</td>\n      <td>29.190001</td>\n      <td>29.600000</td>\n      <td>11.989834</td>\n      <td>3064900</td>\n      <td>-0.010084</td>\n      <td>NaN</td>\n      <td>NaN</td>\n      <td>NaN</td>\n      <td>NaN</td>\n      <td>NaN</td>\n      <td>0</td>\n    </tr>\n    <tr>\n      <th>2</th>\n      <td>2010-01-06</td>\n      <td>29.490000</td>\n      <td>30.000000</td>\n      <td>29.420000</td>\n      <td>29.639999</td>\n      <td>12.006036</td>\n      <td>2733100</td>\n      <td>0.001350</td>\n      <td>NaN</td>\n      <td>NaN</td>\n      <td>0.008085</td>\n      <td>NaN</td>\n      <td>NaN</td>\n      <td>0</td>\n    </tr>\n    <tr>\n      <th>3</th>\n      <td>2010-01-07</td>\n      <td>29.440001</td>\n      <td>29.709999</td>\n      <td>29.410000</td>\n      <td>29.650000</td>\n      <td>12.010086</td>\n      <td>1542200</td>\n      <td>0.000337</td>\n      <td>NaN</td>\n      <td>NaN</td>\n      <td>0.006330</td>\n      <td>NaN</td>\n      <td>NaN</td>\n      <td>0</td>\n    </tr>\n    <tr>\n      <th>4</th>\n      <td>2010-01-08</td>\n      <td>29.700001</td>\n      <td>29.820000</td>\n      <td>29.469999</td>\n      <td>29.820000</td>\n      <td>12.078955</td>\n      <td>2038900</td>\n      <td>0.005717</td>\n      <td>NaN</td>\n      <td>NaN</td>\n      <td>0.006696</td>\n      <td>NaN</td>\n      <td>NaN</td>\n      <td>0</td>\n    </tr>\n    <tr>\n      <th>...</th>\n      <td>...</td>\n      <td>...</td>\n      <td>...</td>\n      <td>...</td>\n      <td>...</td>\n      <td>...</td>\n      <td>...</td>\n      <td>...</td>\n      <td>...</td>\n      <td>...</td>\n      <td>...</td>\n      <td>...</td>\n      <td>...</td>\n      <td>...</td>\n    </tr>\n    <tr>\n      <th>3220</th>\n      <td>2022-12-23</td>\n      <td>34.529999</td>\n      <td>35.639999</td>\n      <td>34.529999</td>\n      <td>35.279999</td>\n      <td>32.831261</td>\n      <td>8744400</td>\n      <td>0.024388</td>\n      <td>0.127073</td>\n      <td>-0.029328</td>\n      <td>0.025743</td>\n      <td>0.067578</td>\n      <td>0.140555</td>\n      <td>0</td>\n    </tr>\n    <tr>\n      <th>3221</th>\n      <td>2022-12-26</td>\n      <td>35.570000</td>\n      <td>35.570000</td>\n      <td>34.740002</td>\n      <td>35.230000</td>\n      <td>32.784729</td>\n      <td>4552700</td>\n      <td>-0.001418</td>\n      <td>0.097726</td>\n      <td>-0.008198</td>\n      <td>0.025739</td>\n      <td>0.067589</td>\n      <td>0.140533</td>\n      <td>0</td>\n    </tr>\n    <tr>\n      <th>3222</th>\n      <td>2022-12-27</td>\n      <td>35.450001</td>\n      <td>35.450001</td>\n      <td>33.900002</td>\n      <td>34.060001</td>\n      <td>31.695936</td>\n      <td>8865800</td>\n      <td>-0.033774</td>\n      <td>0.043811</td>\n      <td>-0.066445</td>\n      <td>0.025742</td>\n      <td>0.067583</td>\n      <td>0.140516</td>\n      <td>-1</td>\n    </tr>\n    <tr>\n      <th>3223</th>\n      <td>2022-12-28</td>\n      <td>34.099998</td>\n      <td>34.799999</td>\n      <td>33.619999</td>\n      <td>34.669998</td>\n      <td>32.263596</td>\n      <td>10725200</td>\n      <td>0.017751</td>\n      <td>0.050883</td>\n      <td>-0.016591</td>\n      <td>0.025740</td>\n      <td>0.067578</td>\n      <td>0.140494</td>\n      <td>0</td>\n    </tr>\n    <tr>\n      <th>3224</th>\n      <td>2022-12-29</td>\n      <td>34.830002</td>\n      <td>35.040001</td>\n      <td>34.400002</td>\n      <td>34.730000</td>\n      <td>32.319435</td>\n      <td>9336500</td>\n      <td>0.001729</td>\n      <td>0.027143</td>\n      <td>0.006645</td>\n      <td>0.025736</td>\n      <td>0.067569</td>\n      <td>0.140472</td>\n      <td>0</td>\n    </tr>\n  </tbody>\n</table>\n<p>3225 rows × 14 columns</p>\n</div>"
     },
     "execution_count": 18,
     "metadata": {},
     "output_type": "execute_result"
    }
   ],
   "source": [
    "df = pd.read_csv('../dataset/prices_processed/BBAS3.SA.csv')\n",
    "df"
   ],
   "metadata": {
    "collapsed": false,
    "ExecuteTime": {
     "end_time": "2024-05-28T03:45:28.730786Z",
     "start_time": "2024-05-28T03:45:28.710211Z"
    }
   },
   "id": "8feec6f7c0e12ea8",
   "execution_count": 18
  },
  {
   "cell_type": "code",
   "outputs": [
    {
     "data": {
      "text/plain": "          Date   Open   High    Low  Close  Adj Close    Volume  Daily_Return  \\\n8   2022-11-09  15.01  15.37  14.75  15.20      15.20  12192200      0.003295   \n9   2022-11-10  14.74  14.75  12.30  12.49      12.49  41927700     -0.196367   \n10  2022-11-11  12.92  13.27  12.10  13.01      13.01  23082800      0.040790   \n11  2022-11-14  13.35  13.96  13.03  13.86      13.86  14574200      0.063289   \n12  2022-11-16  13.87  14.02  12.93  13.08      13.08  14056800     -0.057923   \n..         ...    ...    ...    ...    ...        ...       ...           ...   \n246 2023-10-23  12.25  13.14  12.12  12.93      12.93  14617400      0.045085   \n247 2023-10-24  13.10  13.41  12.93  13.20      13.20  11542300      0.020667   \n248 2023-10-25  13.20  13.50  12.80  12.85      12.85  13303400     -0.026873   \n249 2023-10-26  13.01  13.55  13.01  13.36      13.36  16068800      0.038921   \n250 2023-10-27  13.41  13.66  13.36  13.66      13.66   1411000      0.022207   \n\n     Week_Return  std_Daily_Return  \n8       0.025993               NaN  \n9      -0.255753          0.141182  \n10     -0.226673          0.127485  \n11     -0.157854          0.118688  \n12     -0.210216          0.104017  \n..           ...               ...  \n246    -0.053456          0.049665  \n247     0.018349          0.049580  \n248    -0.053043          0.049505  \n249    -0.011165          0.049468  \n250     0.055695          0.049387  \n\n[243 rows x 10 columns]",
      "text/html": "<div>\n<style scoped>\n    .dataframe tbody tr th:only-of-type {\n        vertical-align: middle;\n    }\n\n    .dataframe tbody tr th {\n        vertical-align: top;\n    }\n\n    .dataframe thead th {\n        text-align: right;\n    }\n</style>\n<table border=\"1\" class=\"dataframe\">\n  <thead>\n    <tr style=\"text-align: right;\">\n      <th></th>\n      <th>Date</th>\n      <th>Open</th>\n      <th>High</th>\n      <th>Low</th>\n      <th>Close</th>\n      <th>Adj Close</th>\n      <th>Volume</th>\n      <th>Daily_Return</th>\n      <th>Week_Return</th>\n      <th>std_Daily_Return</th>\n    </tr>\n  </thead>\n  <tbody>\n    <tr>\n      <th>8</th>\n      <td>2022-11-09</td>\n      <td>15.01</td>\n      <td>15.37</td>\n      <td>14.75</td>\n      <td>15.20</td>\n      <td>15.20</td>\n      <td>12192200</td>\n      <td>0.003295</td>\n      <td>0.025993</td>\n      <td>NaN</td>\n    </tr>\n    <tr>\n      <th>9</th>\n      <td>2022-11-10</td>\n      <td>14.74</td>\n      <td>14.75</td>\n      <td>12.30</td>\n      <td>12.49</td>\n      <td>12.49</td>\n      <td>41927700</td>\n      <td>-0.196367</td>\n      <td>-0.255753</td>\n      <td>0.141182</td>\n    </tr>\n    <tr>\n      <th>10</th>\n      <td>2022-11-11</td>\n      <td>12.92</td>\n      <td>13.27</td>\n      <td>12.10</td>\n      <td>13.01</td>\n      <td>13.01</td>\n      <td>23082800</td>\n      <td>0.040790</td>\n      <td>-0.226673</td>\n      <td>0.127485</td>\n    </tr>\n    <tr>\n      <th>11</th>\n      <td>2022-11-14</td>\n      <td>13.35</td>\n      <td>13.96</td>\n      <td>13.03</td>\n      <td>13.86</td>\n      <td>13.86</td>\n      <td>14574200</td>\n      <td>0.063289</td>\n      <td>-0.157854</td>\n      <td>0.118688</td>\n    </tr>\n    <tr>\n      <th>12</th>\n      <td>2022-11-16</td>\n      <td>13.87</td>\n      <td>14.02</td>\n      <td>12.93</td>\n      <td>13.08</td>\n      <td>13.08</td>\n      <td>14056800</td>\n      <td>-0.057923</td>\n      <td>-0.210216</td>\n      <td>0.104017</td>\n    </tr>\n    <tr>\n      <th>...</th>\n      <td>...</td>\n      <td>...</td>\n      <td>...</td>\n      <td>...</td>\n      <td>...</td>\n      <td>...</td>\n      <td>...</td>\n      <td>...</td>\n      <td>...</td>\n      <td>...</td>\n    </tr>\n    <tr>\n      <th>246</th>\n      <td>2023-10-23</td>\n      <td>12.25</td>\n      <td>13.14</td>\n      <td>12.12</td>\n      <td>12.93</td>\n      <td>12.93</td>\n      <td>14617400</td>\n      <td>0.045085</td>\n      <td>-0.053456</td>\n      <td>0.049665</td>\n    </tr>\n    <tr>\n      <th>247</th>\n      <td>2023-10-24</td>\n      <td>13.10</td>\n      <td>13.41</td>\n      <td>12.93</td>\n      <td>13.20</td>\n      <td>13.20</td>\n      <td>11542300</td>\n      <td>0.020667</td>\n      <td>0.018349</td>\n      <td>0.049580</td>\n    </tr>\n    <tr>\n      <th>248</th>\n      <td>2023-10-25</td>\n      <td>13.20</td>\n      <td>13.50</td>\n      <td>12.80</td>\n      <td>12.85</td>\n      <td>12.85</td>\n      <td>13303400</td>\n      <td>-0.026873</td>\n      <td>-0.053043</td>\n      <td>0.049505</td>\n    </tr>\n    <tr>\n      <th>249</th>\n      <td>2023-10-26</td>\n      <td>13.01</td>\n      <td>13.55</td>\n      <td>13.01</td>\n      <td>13.36</td>\n      <td>13.36</td>\n      <td>16068800</td>\n      <td>0.038921</td>\n      <td>-0.011165</td>\n      <td>0.049468</td>\n    </tr>\n    <tr>\n      <th>250</th>\n      <td>2023-10-27</td>\n      <td>13.41</td>\n      <td>13.66</td>\n      <td>13.36</td>\n      <td>13.66</td>\n      <td>13.66</td>\n      <td>1411000</td>\n      <td>0.022207</td>\n      <td>0.055695</td>\n      <td>0.049387</td>\n    </tr>\n  </tbody>\n</table>\n<p>243 rows × 10 columns</p>\n</div>"
     },
     "execution_count": 4,
     "metadata": {},
     "output_type": "execute_result"
    }
   ],
   "source": [],
   "metadata": {
    "collapsed": false,
    "ExecuteTime": {
     "end_time": "2024-05-28T02:45:21.505014Z",
     "start_time": "2024-05-28T02:45:21.492827Z"
    }
   },
   "id": "74ef40571d58ddb6",
   "execution_count": 4
  },
  {
   "cell_type": "code",
   "outputs": [
    {
     "data": {
      "text/plain": "0.14118235414526847"
     },
     "execution_count": 13,
     "metadata": {},
     "output_type": "execute_result"
    }
   ],
   "source": [
    "np.std([0.003295, -0.196367], ddof=1)"
   ],
   "metadata": {
    "collapsed": false,
    "ExecuteTime": {
     "end_time": "2024-05-28T03:07:41.986830Z",
     "start_time": "2024-05-28T03:07:41.982336Z"
    }
   },
   "id": "fec4e0ebfb33f261",
   "execution_count": 13
  },
  {
   "cell_type": "code",
   "outputs": [
    {
     "data": {
      "text/plain": "          Date       Open       High    Low      Close  Adj Close    Volume  \\\n0   2022-10-27  14.370000  15.240000  14.33  14.640000  14.640000   9401500   \n1   2022-10-28  14.430000  14.930000  14.33  14.810000  14.810000   8831300   \n2   2022-10-31  14.440000  16.129999  14.30  16.129999  16.129999  16568200   \n3   2022-11-01  16.200001  16.559999  15.61  16.320000  16.320000  11681900   \n4   2022-11-03  15.780000  16.270000  15.45  16.230000  16.230000  11766800   \n..         ...        ...        ...    ...        ...        ...       ...   \n246 2023-10-23  12.250000  13.140000  12.12  12.930000  12.930000  14617400   \n247 2023-10-24  13.100000  13.410000  12.93  13.200000  13.200000  11542300   \n248 2023-10-25  13.200000  13.500000  12.80  12.850000  12.850000  13303400   \n249 2023-10-26  13.010000  13.550000  13.01  13.360000  13.360000  16068800   \n250 2023-10-27  13.410000  13.660000  13.36  13.660000  13.660000   1411000   \n\n     Daily_Return  Week_Return  Month_Return  \n0             NaN          NaN           NaN  \n1        0.011545          NaN           NaN  \n2        0.085378          NaN           NaN  \n3        0.011711          NaN           NaN  \n4       -0.005530          NaN           NaN  \n..            ...          ...           ...  \n246      0.045085    -0.053456     -0.055653  \n247      0.020667     0.018349     -0.034987  \n248     -0.026873    -0.053043     -0.064782  \n249      0.038921    -0.011165     -0.024400  \n250      0.022207     0.055695      0.041860  \n\n[251 rows x 10 columns]",
      "text/html": "<div>\n<style scoped>\n    .dataframe tbody tr th:only-of-type {\n        vertical-align: middle;\n    }\n\n    .dataframe tbody tr th {\n        vertical-align: top;\n    }\n\n    .dataframe thead th {\n        text-align: right;\n    }\n</style>\n<table border=\"1\" class=\"dataframe\">\n  <thead>\n    <tr style=\"text-align: right;\">\n      <th></th>\n      <th>Date</th>\n      <th>Open</th>\n      <th>High</th>\n      <th>Low</th>\n      <th>Close</th>\n      <th>Adj Close</th>\n      <th>Volume</th>\n      <th>Daily_Return</th>\n      <th>Week_Return</th>\n      <th>Month_Return</th>\n    </tr>\n  </thead>\n  <tbody>\n    <tr>\n      <th>0</th>\n      <td>2022-10-27</td>\n      <td>14.370000</td>\n      <td>15.240000</td>\n      <td>14.33</td>\n      <td>14.640000</td>\n      <td>14.640000</td>\n      <td>9401500</td>\n      <td>NaN</td>\n      <td>NaN</td>\n      <td>NaN</td>\n    </tr>\n    <tr>\n      <th>1</th>\n      <td>2022-10-28</td>\n      <td>14.430000</td>\n      <td>14.930000</td>\n      <td>14.33</td>\n      <td>14.810000</td>\n      <td>14.810000</td>\n      <td>8831300</td>\n      <td>0.011545</td>\n      <td>NaN</td>\n      <td>NaN</td>\n    </tr>\n    <tr>\n      <th>2</th>\n      <td>2022-10-31</td>\n      <td>14.440000</td>\n      <td>16.129999</td>\n      <td>14.30</td>\n      <td>16.129999</td>\n      <td>16.129999</td>\n      <td>16568200</td>\n      <td>0.085378</td>\n      <td>NaN</td>\n      <td>NaN</td>\n    </tr>\n    <tr>\n      <th>3</th>\n      <td>2022-11-01</td>\n      <td>16.200001</td>\n      <td>16.559999</td>\n      <td>15.61</td>\n      <td>16.320000</td>\n      <td>16.320000</td>\n      <td>11681900</td>\n      <td>0.011711</td>\n      <td>NaN</td>\n      <td>NaN</td>\n    </tr>\n    <tr>\n      <th>4</th>\n      <td>2022-11-03</td>\n      <td>15.780000</td>\n      <td>16.270000</td>\n      <td>15.45</td>\n      <td>16.230000</td>\n      <td>16.230000</td>\n      <td>11766800</td>\n      <td>-0.005530</td>\n      <td>NaN</td>\n      <td>NaN</td>\n    </tr>\n    <tr>\n      <th>...</th>\n      <td>...</td>\n      <td>...</td>\n      <td>...</td>\n      <td>...</td>\n      <td>...</td>\n      <td>...</td>\n      <td>...</td>\n      <td>...</td>\n      <td>...</td>\n      <td>...</td>\n    </tr>\n    <tr>\n      <th>246</th>\n      <td>2023-10-23</td>\n      <td>12.250000</td>\n      <td>13.140000</td>\n      <td>12.12</td>\n      <td>12.930000</td>\n      <td>12.930000</td>\n      <td>14617400</td>\n      <td>0.045085</td>\n      <td>-0.053456</td>\n      <td>-0.055653</td>\n    </tr>\n    <tr>\n      <th>247</th>\n      <td>2023-10-24</td>\n      <td>13.100000</td>\n      <td>13.410000</td>\n      <td>12.93</td>\n      <td>13.200000</td>\n      <td>13.200000</td>\n      <td>11542300</td>\n      <td>0.020667</td>\n      <td>0.018349</td>\n      <td>-0.034987</td>\n    </tr>\n    <tr>\n      <th>248</th>\n      <td>2023-10-25</td>\n      <td>13.200000</td>\n      <td>13.500000</td>\n      <td>12.80</td>\n      <td>12.850000</td>\n      <td>12.850000</td>\n      <td>13303400</td>\n      <td>-0.026873</td>\n      <td>-0.053043</td>\n      <td>-0.064782</td>\n    </tr>\n    <tr>\n      <th>249</th>\n      <td>2023-10-26</td>\n      <td>13.010000</td>\n      <td>13.550000</td>\n      <td>13.01</td>\n      <td>13.360000</td>\n      <td>13.360000</td>\n      <td>16068800</td>\n      <td>0.038921</td>\n      <td>-0.011165</td>\n      <td>-0.024400</td>\n    </tr>\n    <tr>\n      <th>250</th>\n      <td>2023-10-27</td>\n      <td>13.410000</td>\n      <td>13.660000</td>\n      <td>13.36</td>\n      <td>13.660000</td>\n      <td>13.660000</td>\n      <td>1411000</td>\n      <td>0.022207</td>\n      <td>0.055695</td>\n      <td>0.041860</td>\n    </tr>\n  </tbody>\n</table>\n<p>251 rows × 10 columns</p>\n</div>"
     },
     "execution_count": 34,
     "metadata": {},
     "output_type": "execute_result"
    }
   ],
   "source": [
    "df['Daily_Return'] = np.log(df['Close']/df['Close'].shift(1))\n",
    "df['Week_Return'] = np.log(df['Close']/df['Close'].shift(7))\n",
    "df['Month_Return'] = np.log(df['Close']/df['Close'].shift(30))\n",
    "df"
   ],
   "metadata": {
    "collapsed": false,
    "ExecuteTime": {
     "end_time": "2024-05-28T01:57:12.962474Z",
     "start_time": "2024-05-28T01:57:12.951029Z"
    }
   },
   "id": "48410715adacf36d",
   "execution_count": 34
  }
 ],
 "metadata": {
  "kernelspec": {
   "display_name": "Python 3",
   "language": "python",
   "name": "python3"
  },
  "language_info": {
   "codemirror_mode": {
    "name": "ipython",
    "version": 2
   },
   "file_extension": ".py",
   "mimetype": "text/x-python",
   "name": "python",
   "nbconvert_exporter": "python",
   "pygments_lexer": "ipython2",
   "version": "2.7.6"
  }
 },
 "nbformat": 4,
 "nbformat_minor": 5
}
