{
 "cells": [
  {
   "cell_type": "code",
   "execution_count": 63,
   "id": "initial_id",
   "metadata": {
    "collapsed": true,
    "ExecuteTime": {
     "end_time": "2024-06-05T01:20:14.827975Z",
     "start_time": "2024-06-05T01:20:14.823976Z"
    }
   },
   "outputs": [],
   "source": [
    "import pandas as pd\n",
    "import numpy as np"
   ]
  },
  {
   "cell_type": "code",
   "outputs": [
    {
     "data": {
      "text/plain": "   trimestre       data prox_reuniao\n0     1T2017 2017-05-15   2017-08-14\n1     2T2017 2017-08-14   2017-11-09\n2     3T2017 2017-11-09   2018-03-08\n3     4T2017 2018-03-08   2018-05-10\n4     1T2018 2018-05-10   2018-08-09\n5     2T2018 2018-08-09   2018-11-08\n6     3T2018 2018-11-08   2019-03-14\n7     4T2018 2019-03-14   2019-05-09\n8     1T2019 2019-05-09   2019-08-08\n9     2T2019 2019-08-08   2019-11-07\n10    3T2019 2019-11-07   2020-03-12\n11    4T2019 2020-03-12   2020-05-14\n12    1T2020 2020-05-14   2020-08-13\n13    2T2020 2020-08-13   2020-11-16\n14    3T2020 2020-11-16   2021-03-04\n15    4T2020 2021-03-04   2021-05-06\n16    1T2021 2021-05-06   2021-08-12\n17    2T2021 2021-08-12   2021-11-11\n18    3T2021 2021-11-11   2022-02-24\n19    4T2021 2022-02-24   2022-05-09\n20    1T2022 2022-05-09   2022-08-11\n21    2T2022 2022-08-11   2022-11-11\n22    3T2022 2022-11-11   2023-03-06\n23    4T2022 2023-03-06          NaT",
      "text/html": "<div>\n<style scoped>\n    .dataframe tbody tr th:only-of-type {\n        vertical-align: middle;\n    }\n\n    .dataframe tbody tr th {\n        vertical-align: top;\n    }\n\n    .dataframe thead th {\n        text-align: right;\n    }\n</style>\n<table border=\"1\" class=\"dataframe\">\n  <thead>\n    <tr style=\"text-align: right;\">\n      <th></th>\n      <th>trimestre</th>\n      <th>data</th>\n      <th>prox_reuniao</th>\n    </tr>\n  </thead>\n  <tbody>\n    <tr>\n      <th>0</th>\n      <td>1T2017</td>\n      <td>2017-05-15</td>\n      <td>2017-08-14</td>\n    </tr>\n    <tr>\n      <th>1</th>\n      <td>2T2017</td>\n      <td>2017-08-14</td>\n      <td>2017-11-09</td>\n    </tr>\n    <tr>\n      <th>2</th>\n      <td>3T2017</td>\n      <td>2017-11-09</td>\n      <td>2018-03-08</td>\n    </tr>\n    <tr>\n      <th>3</th>\n      <td>4T2017</td>\n      <td>2018-03-08</td>\n      <td>2018-05-10</td>\n    </tr>\n    <tr>\n      <th>4</th>\n      <td>1T2018</td>\n      <td>2018-05-10</td>\n      <td>2018-08-09</td>\n    </tr>\n    <tr>\n      <th>5</th>\n      <td>2T2018</td>\n      <td>2018-08-09</td>\n      <td>2018-11-08</td>\n    </tr>\n    <tr>\n      <th>6</th>\n      <td>3T2018</td>\n      <td>2018-11-08</td>\n      <td>2019-03-14</td>\n    </tr>\n    <tr>\n      <th>7</th>\n      <td>4T2018</td>\n      <td>2019-03-14</td>\n      <td>2019-05-09</td>\n    </tr>\n    <tr>\n      <th>8</th>\n      <td>1T2019</td>\n      <td>2019-05-09</td>\n      <td>2019-08-08</td>\n    </tr>\n    <tr>\n      <th>9</th>\n      <td>2T2019</td>\n      <td>2019-08-08</td>\n      <td>2019-11-07</td>\n    </tr>\n    <tr>\n      <th>10</th>\n      <td>3T2019</td>\n      <td>2019-11-07</td>\n      <td>2020-03-12</td>\n    </tr>\n    <tr>\n      <th>11</th>\n      <td>4T2019</td>\n      <td>2020-03-12</td>\n      <td>2020-05-14</td>\n    </tr>\n    <tr>\n      <th>12</th>\n      <td>1T2020</td>\n      <td>2020-05-14</td>\n      <td>2020-08-13</td>\n    </tr>\n    <tr>\n      <th>13</th>\n      <td>2T2020</td>\n      <td>2020-08-13</td>\n      <td>2020-11-16</td>\n    </tr>\n    <tr>\n      <th>14</th>\n      <td>3T2020</td>\n      <td>2020-11-16</td>\n      <td>2021-03-04</td>\n    </tr>\n    <tr>\n      <th>15</th>\n      <td>4T2020</td>\n      <td>2021-03-04</td>\n      <td>2021-05-06</td>\n    </tr>\n    <tr>\n      <th>16</th>\n      <td>1T2021</td>\n      <td>2021-05-06</td>\n      <td>2021-08-12</td>\n    </tr>\n    <tr>\n      <th>17</th>\n      <td>2T2021</td>\n      <td>2021-08-12</td>\n      <td>2021-11-11</td>\n    </tr>\n    <tr>\n      <th>18</th>\n      <td>3T2021</td>\n      <td>2021-11-11</td>\n      <td>2022-02-24</td>\n    </tr>\n    <tr>\n      <th>19</th>\n      <td>4T2021</td>\n      <td>2022-02-24</td>\n      <td>2022-05-09</td>\n    </tr>\n    <tr>\n      <th>20</th>\n      <td>1T2022</td>\n      <td>2022-05-09</td>\n      <td>2022-08-11</td>\n    </tr>\n    <tr>\n      <th>21</th>\n      <td>2T2022</td>\n      <td>2022-08-11</td>\n      <td>2022-11-11</td>\n    </tr>\n    <tr>\n      <th>22</th>\n      <td>3T2022</td>\n      <td>2022-11-11</td>\n      <td>2023-03-06</td>\n    </tr>\n    <tr>\n      <th>23</th>\n      <td>4T2022</td>\n      <td>2023-03-06</td>\n      <td>NaT</td>\n    </tr>\n  </tbody>\n</table>\n</div>"
     },
     "execution_count": 64,
     "metadata": {},
     "output_type": "execute_result"
    }
   ],
   "source": [
    "df = pd.read_csv('../dataset/transcripts/azul/datas.csv')\n",
    "df = df.sort_values(by=['data'], ignore_index=True)\n",
    "df['data'] = pd.to_datetime(df['data'])\n",
    "df['prox_reuniao'] = df['data'].shift(-1)\n",
    "df['prox_reuniao'] = pd.to_datetime(df['prox_reuniao'])\n",
    "df"
   ],
   "metadata": {
    "collapsed": false,
    "ExecuteTime": {
     "end_time": "2024-06-05T01:20:15.156978Z",
     "start_time": "2024-06-05T01:20:15.147493Z"
    }
   },
   "id": "8feec6f7c0e12ea8",
   "execution_count": 64
  },
  {
   "cell_type": "code",
   "outputs": [
    {
     "data": {
      "text/plain": "           Date       Open       High        Low      Close  Adj Close  \\\n0    2017-04-12  22.450001  22.990000  22.299999  22.959999  22.959999   \n1    2017-04-13  22.969999  23.010000  22.549999  22.990000  22.990000   \n2    2017-04-17  23.000000  23.000000  22.620001  22.850000  22.850000   \n3    2017-04-18  22.820000  24.790001  22.600000  23.910000  23.910000   \n4    2017-04-19  24.000000  24.340000  23.900000  23.920000  23.920000   \n...         ...        ...        ...        ...        ...        ...   \n1772 2024-05-27  10.430000  10.650000   9.990000  10.120000  10.120000   \n1773 2024-05-28  10.270000  10.370000   9.600000   9.630000   9.630000   \n1774 2024-05-29   9.600000   9.750000   9.230000   9.280000   9.280000   \n1775 2024-05-31   9.350000   9.670000   9.210000   9.470000   9.470000   \n1776 2024-06-03   9.550000   9.650000   9.260000   9.410000   9.410000   \n\n        Volume  Daily_Return  Week_Return  Month_Return  \\\n0      1745900           NaN          NaN           NaN   \n1       549600      0.001306          NaN           NaN   \n2       249300     -0.006108          NaN           NaN   \n3      1125100      0.045346          NaN           NaN   \n4       442100      0.000418          NaN           NaN   \n...        ...           ...          ...           ...   \n1772   7892500     -0.023439    -0.012764     -0.097822   \n1773  16238700     -0.049630    -0.044677     -0.104425   \n1774  14747200     -0.037022    -0.096485     -0.120652   \n1775  14742500      0.020267    -0.096557     -0.100385   \n1776  10442200     -0.006356    -0.058810     -0.067788   \n\n      Cumulative_std_Daily_Return  Cumulative_std_Week_Return  \\\n0                             NaN                         NaN   \n1                             NaN                         NaN   \n2                        0.005243                         NaN   \n3                        0.027815                         NaN   \n4                        0.023636                         NaN   \n...                           ...                         ...   \n1772                     0.042432                    0.120882   \n1773                     0.042436                    0.120851   \n1774                     0.042433                    0.120838   \n1775                     0.042424                    0.120824   \n1776                     0.042412                    0.120797   \n\n      Cumulative_std_Month_Return  Indicator_Daily_Return  \\\n0                             NaN                       0   \n1                             NaN                       0   \n2                             NaN                      -1   \n3                             NaN                       1   \n4                             NaN                       0   \n...                           ...                     ...   \n1772                     0.258422                      -1   \n1773                     0.258357                      -1   \n1774                     0.258295                      -1   \n1775                     0.258229                       1   \n1776                     0.258158                      -1   \n\n      Indicator_Week_Return  Indicator_Month_Return  \n0                         0                       0  \n1                         0                       0  \n2                         0                       0  \n3                         0                       0  \n4                         0                       0  \n...                     ...                     ...  \n1772                     -1                      -1  \n1773                     -1                      -1  \n1774                     -1                      -1  \n1775                     -1                      -1  \n1776                     -1                      -1  \n\n[1777 rows x 16 columns]",
      "text/html": "<div>\n<style scoped>\n    .dataframe tbody tr th:only-of-type {\n        vertical-align: middle;\n    }\n\n    .dataframe tbody tr th {\n        vertical-align: top;\n    }\n\n    .dataframe thead th {\n        text-align: right;\n    }\n</style>\n<table border=\"1\" class=\"dataframe\">\n  <thead>\n    <tr style=\"text-align: right;\">\n      <th></th>\n      <th>Date</th>\n      <th>Open</th>\n      <th>High</th>\n      <th>Low</th>\n      <th>Close</th>\n      <th>Adj Close</th>\n      <th>Volume</th>\n      <th>Daily_Return</th>\n      <th>Week_Return</th>\n      <th>Month_Return</th>\n      <th>Cumulative_std_Daily_Return</th>\n      <th>Cumulative_std_Week_Return</th>\n      <th>Cumulative_std_Month_Return</th>\n      <th>Indicator_Daily_Return</th>\n      <th>Indicator_Week_Return</th>\n      <th>Indicator_Month_Return</th>\n    </tr>\n  </thead>\n  <tbody>\n    <tr>\n      <th>0</th>\n      <td>2017-04-12</td>\n      <td>22.450001</td>\n      <td>22.990000</td>\n      <td>22.299999</td>\n      <td>22.959999</td>\n      <td>22.959999</td>\n      <td>1745900</td>\n      <td>NaN</td>\n      <td>NaN</td>\n      <td>NaN</td>\n      <td>NaN</td>\n      <td>NaN</td>\n      <td>NaN</td>\n      <td>0</td>\n      <td>0</td>\n      <td>0</td>\n    </tr>\n    <tr>\n      <th>1</th>\n      <td>2017-04-13</td>\n      <td>22.969999</td>\n      <td>23.010000</td>\n      <td>22.549999</td>\n      <td>22.990000</td>\n      <td>22.990000</td>\n      <td>549600</td>\n      <td>0.001306</td>\n      <td>NaN</td>\n      <td>NaN</td>\n      <td>NaN</td>\n      <td>NaN</td>\n      <td>NaN</td>\n      <td>0</td>\n      <td>0</td>\n      <td>0</td>\n    </tr>\n    <tr>\n      <th>2</th>\n      <td>2017-04-17</td>\n      <td>23.000000</td>\n      <td>23.000000</td>\n      <td>22.620001</td>\n      <td>22.850000</td>\n      <td>22.850000</td>\n      <td>249300</td>\n      <td>-0.006108</td>\n      <td>NaN</td>\n      <td>NaN</td>\n      <td>0.005243</td>\n      <td>NaN</td>\n      <td>NaN</td>\n      <td>-1</td>\n      <td>0</td>\n      <td>0</td>\n    </tr>\n    <tr>\n      <th>3</th>\n      <td>2017-04-18</td>\n      <td>22.820000</td>\n      <td>24.790001</td>\n      <td>22.600000</td>\n      <td>23.910000</td>\n      <td>23.910000</td>\n      <td>1125100</td>\n      <td>0.045346</td>\n      <td>NaN</td>\n      <td>NaN</td>\n      <td>0.027815</td>\n      <td>NaN</td>\n      <td>NaN</td>\n      <td>1</td>\n      <td>0</td>\n      <td>0</td>\n    </tr>\n    <tr>\n      <th>4</th>\n      <td>2017-04-19</td>\n      <td>24.000000</td>\n      <td>24.340000</td>\n      <td>23.900000</td>\n      <td>23.920000</td>\n      <td>23.920000</td>\n      <td>442100</td>\n      <td>0.000418</td>\n      <td>NaN</td>\n      <td>NaN</td>\n      <td>0.023636</td>\n      <td>NaN</td>\n      <td>NaN</td>\n      <td>0</td>\n      <td>0</td>\n      <td>0</td>\n    </tr>\n    <tr>\n      <th>...</th>\n      <td>...</td>\n      <td>...</td>\n      <td>...</td>\n      <td>...</td>\n      <td>...</td>\n      <td>...</td>\n      <td>...</td>\n      <td>...</td>\n      <td>...</td>\n      <td>...</td>\n      <td>...</td>\n      <td>...</td>\n      <td>...</td>\n      <td>...</td>\n      <td>...</td>\n      <td>...</td>\n    </tr>\n    <tr>\n      <th>1772</th>\n      <td>2024-05-27</td>\n      <td>10.430000</td>\n      <td>10.650000</td>\n      <td>9.990000</td>\n      <td>10.120000</td>\n      <td>10.120000</td>\n      <td>7892500</td>\n      <td>-0.023439</td>\n      <td>-0.012764</td>\n      <td>-0.097822</td>\n      <td>0.042432</td>\n      <td>0.120882</td>\n      <td>0.258422</td>\n      <td>-1</td>\n      <td>-1</td>\n      <td>-1</td>\n    </tr>\n    <tr>\n      <th>1773</th>\n      <td>2024-05-28</td>\n      <td>10.270000</td>\n      <td>10.370000</td>\n      <td>9.600000</td>\n      <td>9.630000</td>\n      <td>9.630000</td>\n      <td>16238700</td>\n      <td>-0.049630</td>\n      <td>-0.044677</td>\n      <td>-0.104425</td>\n      <td>0.042436</td>\n      <td>0.120851</td>\n      <td>0.258357</td>\n      <td>-1</td>\n      <td>-1</td>\n      <td>-1</td>\n    </tr>\n    <tr>\n      <th>1774</th>\n      <td>2024-05-29</td>\n      <td>9.600000</td>\n      <td>9.750000</td>\n      <td>9.230000</td>\n      <td>9.280000</td>\n      <td>9.280000</td>\n      <td>14747200</td>\n      <td>-0.037022</td>\n      <td>-0.096485</td>\n      <td>-0.120652</td>\n      <td>0.042433</td>\n      <td>0.120838</td>\n      <td>0.258295</td>\n      <td>-1</td>\n      <td>-1</td>\n      <td>-1</td>\n    </tr>\n    <tr>\n      <th>1775</th>\n      <td>2024-05-31</td>\n      <td>9.350000</td>\n      <td>9.670000</td>\n      <td>9.210000</td>\n      <td>9.470000</td>\n      <td>9.470000</td>\n      <td>14742500</td>\n      <td>0.020267</td>\n      <td>-0.096557</td>\n      <td>-0.100385</td>\n      <td>0.042424</td>\n      <td>0.120824</td>\n      <td>0.258229</td>\n      <td>1</td>\n      <td>-1</td>\n      <td>-1</td>\n    </tr>\n    <tr>\n      <th>1776</th>\n      <td>2024-06-03</td>\n      <td>9.550000</td>\n      <td>9.650000</td>\n      <td>9.260000</td>\n      <td>9.410000</td>\n      <td>9.410000</td>\n      <td>10442200</td>\n      <td>-0.006356</td>\n      <td>-0.058810</td>\n      <td>-0.067788</td>\n      <td>0.042412</td>\n      <td>0.120797</td>\n      <td>0.258158</td>\n      <td>-1</td>\n      <td>-1</td>\n      <td>-1</td>\n    </tr>\n  </tbody>\n</table>\n<p>1777 rows × 16 columns</p>\n</div>"
     },
     "execution_count": 65,
     "metadata": {},
     "output_type": "execute_result"
    }
   ],
   "source": [
    "prices = pd.read_csv('../dataset/prices_processed/AZUL4.SA.csv')\n",
    "prices['Date'] = pd.to_datetime(prices['Date'])\n",
    "prices"
   ],
   "metadata": {
    "collapsed": false,
    "ExecuteTime": {
     "end_time": "2024-06-05T01:20:15.653690Z",
     "start_time": "2024-06-05T01:20:15.632444Z"
    }
   },
   "id": "4e49059c6f84ed73",
   "execution_count": 65
  },
  {
   "cell_type": "code",
   "outputs": [],
   "source": [
    "def contar_indicadores(dataframe1, dataframe2, indicador, tipo=1):\n",
    "    contagem = []\n",
    "    for i, row in dataframe1.iterrows():\n",
    "        inicio = row['data']\n",
    "        fim = row['prox_reuniao']\n",
    "        print(pd.isna(fim))\n",
    "        if not pd.isna(fim):\n",
    "            filtro = dataframe2[(dataframe2['Date'] >= inicio) & (dataframe2['Date'] <= fim) & (dataframe2[f'Indicator_{indicador}'] == tipo)]\n",
    "        else:\n",
    "            fim = inicio + pd.DateOffset(months=3)\n",
    "            print(fim)\n",
    "            filtro = dataframe2[(dataframe2['Date'] >= inicio) & (dataframe2['Date'] <= fim) & (dataframe2[f'Indicator_{indicador}'] == tipo)]\n",
    "        contagem.append(len(filtro))\n",
    "    return contagem"
   ],
   "metadata": {
    "collapsed": false,
    "ExecuteTime": {
     "end_time": "2024-06-05T01:20:16.348011Z",
     "start_time": "2024-06-05T01:20:16.343017Z"
    }
   },
   "id": "1d433db990b76873",
   "execution_count": 66
  },
  {
   "cell_type": "code",
   "outputs": [
    {
     "name": "stdout",
     "output_type": "stream",
     "text": [
      "False\n",
      "False\n",
      "False\n",
      "False\n",
      "False\n",
      "False\n",
      "False\n",
      "False\n",
      "False\n",
      "False\n",
      "False\n",
      "False\n",
      "False\n",
      "False\n",
      "False\n",
      "False\n",
      "False\n",
      "False\n",
      "False\n",
      "False\n",
      "False\n",
      "False\n",
      "False\n",
      "True\n",
      "2023-06-06 00:00:00\n",
      "False\n",
      "False\n",
      "False\n",
      "False\n",
      "False\n",
      "False\n",
      "False\n",
      "False\n",
      "False\n",
      "False\n",
      "False\n",
      "False\n",
      "False\n",
      "False\n",
      "False\n",
      "False\n",
      "False\n",
      "False\n",
      "False\n",
      "False\n",
      "False\n",
      "False\n",
      "False\n",
      "True\n",
      "2023-06-06 00:00:00\n",
      "False\n",
      "False\n",
      "False\n",
      "False\n",
      "False\n",
      "False\n",
      "False\n",
      "False\n",
      "False\n",
      "False\n",
      "False\n",
      "False\n",
      "False\n",
      "False\n",
      "False\n",
      "False\n",
      "False\n",
      "False\n",
      "False\n",
      "False\n",
      "False\n",
      "False\n",
      "False\n",
      "True\n",
      "2023-06-06 00:00:00\n"
     ]
    },
    {
     "data": {
      "text/plain": "   trimestre       data prox_reuniao  Daily_Return_Positive  \\\n0     1T2017 2017-05-15   2017-08-14                     35   \n1     2T2017 2017-08-14   2017-11-09                     29   \n2     3T2017 2017-11-09   2018-03-08                     37   \n3     4T2017 2018-03-08   2018-05-10                     20   \n4     1T2018 2018-05-10   2018-08-09                     27   \n5     2T2018 2018-08-09   2018-11-08                     38   \n6     3T2018 2018-11-08   2019-03-14                     42   \n7     4T2018 2019-03-14   2019-05-09                     19   \n8     1T2019 2019-05-09   2019-08-08                     37   \n9     2T2019 2019-08-08   2019-11-07                     27   \n10    3T2019 2019-11-07   2020-03-12                     38   \n11    4T2019 2020-03-12   2020-05-14                     17   \n12    1T2020 2020-05-14   2020-08-13                     28   \n13    2T2020 2020-08-13   2020-11-16                     32   \n14    3T2020 2020-11-16   2021-03-04                     34   \n15    4T2020 2021-03-04   2021-05-06                     16   \n16    1T2021 2021-05-06   2021-08-12                     24   \n17    2T2021 2021-08-12   2021-11-11                     23   \n18    3T2021 2021-11-11   2022-02-24                     31   \n19    4T2021 2022-02-24   2022-05-09                     19   \n20    1T2022 2022-05-09   2022-08-11                     23   \n21    2T2022 2022-08-11   2022-11-11                     29   \n22    3T2022 2022-11-11   2023-03-06                     31   \n23    4T2022 2023-03-06          NaT                     28   \n\n    Daily_Return_Neutral  Daily_Return_Negative  \n0                      8                     23  \n1                      9                     26  \n2                     13                     33  \n3                      5                     19  \n4                      5                     32  \n5                      4                     21  \n6                      8                     32  \n7                      1                     19  \n8                      3                     24  \n9                     10                     29  \n10                     8                     37  \n11                     3                     23  \n12                     5                     32  \n13                     8                     25  \n14                     8                     29  \n15                     9                     19  \n16                    14                     31  \n17                     5                     35  \n18                     8                     34  \n19                     3                     27  \n20                     8                     37  \n21                     5                     30  \n22                     7                     40  \n23                     7                     29  ",
      "text/html": "<div>\n<style scoped>\n    .dataframe tbody tr th:only-of-type {\n        vertical-align: middle;\n    }\n\n    .dataframe tbody tr th {\n        vertical-align: top;\n    }\n\n    .dataframe thead th {\n        text-align: right;\n    }\n</style>\n<table border=\"1\" class=\"dataframe\">\n  <thead>\n    <tr style=\"text-align: right;\">\n      <th></th>\n      <th>trimestre</th>\n      <th>data</th>\n      <th>prox_reuniao</th>\n      <th>Daily_Return_Positive</th>\n      <th>Daily_Return_Neutral</th>\n      <th>Daily_Return_Negative</th>\n    </tr>\n  </thead>\n  <tbody>\n    <tr>\n      <th>0</th>\n      <td>1T2017</td>\n      <td>2017-05-15</td>\n      <td>2017-08-14</td>\n      <td>35</td>\n      <td>8</td>\n      <td>23</td>\n    </tr>\n    <tr>\n      <th>1</th>\n      <td>2T2017</td>\n      <td>2017-08-14</td>\n      <td>2017-11-09</td>\n      <td>29</td>\n      <td>9</td>\n      <td>26</td>\n    </tr>\n    <tr>\n      <th>2</th>\n      <td>3T2017</td>\n      <td>2017-11-09</td>\n      <td>2018-03-08</td>\n      <td>37</td>\n      <td>13</td>\n      <td>33</td>\n    </tr>\n    <tr>\n      <th>3</th>\n      <td>4T2017</td>\n      <td>2018-03-08</td>\n      <td>2018-05-10</td>\n      <td>20</td>\n      <td>5</td>\n      <td>19</td>\n    </tr>\n    <tr>\n      <th>4</th>\n      <td>1T2018</td>\n      <td>2018-05-10</td>\n      <td>2018-08-09</td>\n      <td>27</td>\n      <td>5</td>\n      <td>32</td>\n    </tr>\n    <tr>\n      <th>5</th>\n      <td>2T2018</td>\n      <td>2018-08-09</td>\n      <td>2018-11-08</td>\n      <td>38</td>\n      <td>4</td>\n      <td>21</td>\n    </tr>\n    <tr>\n      <th>6</th>\n      <td>3T2018</td>\n      <td>2018-11-08</td>\n      <td>2019-03-14</td>\n      <td>42</td>\n      <td>8</td>\n      <td>32</td>\n    </tr>\n    <tr>\n      <th>7</th>\n      <td>4T2018</td>\n      <td>2019-03-14</td>\n      <td>2019-05-09</td>\n      <td>19</td>\n      <td>1</td>\n      <td>19</td>\n    </tr>\n    <tr>\n      <th>8</th>\n      <td>1T2019</td>\n      <td>2019-05-09</td>\n      <td>2019-08-08</td>\n      <td>37</td>\n      <td>3</td>\n      <td>24</td>\n    </tr>\n    <tr>\n      <th>9</th>\n      <td>2T2019</td>\n      <td>2019-08-08</td>\n      <td>2019-11-07</td>\n      <td>27</td>\n      <td>10</td>\n      <td>29</td>\n    </tr>\n    <tr>\n      <th>10</th>\n      <td>3T2019</td>\n      <td>2019-11-07</td>\n      <td>2020-03-12</td>\n      <td>38</td>\n      <td>8</td>\n      <td>37</td>\n    </tr>\n    <tr>\n      <th>11</th>\n      <td>4T2019</td>\n      <td>2020-03-12</td>\n      <td>2020-05-14</td>\n      <td>17</td>\n      <td>3</td>\n      <td>23</td>\n    </tr>\n    <tr>\n      <th>12</th>\n      <td>1T2020</td>\n      <td>2020-05-14</td>\n      <td>2020-08-13</td>\n      <td>28</td>\n      <td>5</td>\n      <td>32</td>\n    </tr>\n    <tr>\n      <th>13</th>\n      <td>2T2020</td>\n      <td>2020-08-13</td>\n      <td>2020-11-16</td>\n      <td>32</td>\n      <td>8</td>\n      <td>25</td>\n    </tr>\n    <tr>\n      <th>14</th>\n      <td>3T2020</td>\n      <td>2020-11-16</td>\n      <td>2021-03-04</td>\n      <td>34</td>\n      <td>8</td>\n      <td>29</td>\n    </tr>\n    <tr>\n      <th>15</th>\n      <td>4T2020</td>\n      <td>2021-03-04</td>\n      <td>2021-05-06</td>\n      <td>16</td>\n      <td>9</td>\n      <td>19</td>\n    </tr>\n    <tr>\n      <th>16</th>\n      <td>1T2021</td>\n      <td>2021-05-06</td>\n      <td>2021-08-12</td>\n      <td>24</td>\n      <td>14</td>\n      <td>31</td>\n    </tr>\n    <tr>\n      <th>17</th>\n      <td>2T2021</td>\n      <td>2021-08-12</td>\n      <td>2021-11-11</td>\n      <td>23</td>\n      <td>5</td>\n      <td>35</td>\n    </tr>\n    <tr>\n      <th>18</th>\n      <td>3T2021</td>\n      <td>2021-11-11</td>\n      <td>2022-02-24</td>\n      <td>31</td>\n      <td>8</td>\n      <td>34</td>\n    </tr>\n    <tr>\n      <th>19</th>\n      <td>4T2021</td>\n      <td>2022-02-24</td>\n      <td>2022-05-09</td>\n      <td>19</td>\n      <td>3</td>\n      <td>27</td>\n    </tr>\n    <tr>\n      <th>20</th>\n      <td>1T2022</td>\n      <td>2022-05-09</td>\n      <td>2022-08-11</td>\n      <td>23</td>\n      <td>8</td>\n      <td>37</td>\n    </tr>\n    <tr>\n      <th>21</th>\n      <td>2T2022</td>\n      <td>2022-08-11</td>\n      <td>2022-11-11</td>\n      <td>29</td>\n      <td>5</td>\n      <td>30</td>\n    </tr>\n    <tr>\n      <th>22</th>\n      <td>3T2022</td>\n      <td>2022-11-11</td>\n      <td>2023-03-06</td>\n      <td>31</td>\n      <td>7</td>\n      <td>40</td>\n    </tr>\n    <tr>\n      <th>23</th>\n      <td>4T2022</td>\n      <td>2023-03-06</td>\n      <td>NaT</td>\n      <td>28</td>\n      <td>7</td>\n      <td>29</td>\n    </tr>\n  </tbody>\n</table>\n</div>"
     },
     "execution_count": 67,
     "metadata": {},
     "output_type": "execute_result"
    }
   ],
   "source": [
    "df['Daily_Return_Positive'] = contar_indicadores(df, prices, 'Daily_Return', tipo=1)\n",
    "df['Daily_Return_Neutral'] = contar_indicadores(df, prices, 'Daily_Return', tipo=0)\n",
    "df['Daily_Return_Negative'] = contar_indicadores(df, prices, 'Daily_Return', tipo=-1)\n",
    "df"
   ],
   "metadata": {
    "collapsed": false,
    "ExecuteTime": {
     "end_time": "2024-06-05T01:20:19.115210Z",
     "start_time": "2024-06-05T01:20:19.075492Z"
    }
   },
   "id": "6a12444c6e7adc",
   "execution_count": 67
  },
  {
   "cell_type": "code",
   "outputs": [],
   "source": [],
   "metadata": {
    "collapsed": false
   },
   "id": "ebccb0558f0f14ad"
  }
 ],
 "metadata": {
  "kernelspec": {
   "display_name": "Python 3",
   "language": "python",
   "name": "python3"
  },
  "language_info": {
   "codemirror_mode": {
    "name": "ipython",
    "version": 2
   },
   "file_extension": ".py",
   "mimetype": "text/x-python",
   "name": "python",
   "nbconvert_exporter": "python",
   "pygments_lexer": "ipython2",
   "version": "2.7.6"
  }
 },
 "nbformat": 4,
 "nbformat_minor": 5
}
